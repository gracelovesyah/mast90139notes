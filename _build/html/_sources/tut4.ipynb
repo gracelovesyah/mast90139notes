{
 "cells": [
  {
   "attachments": {},
   "cell_type": "markdown",
   "id": "c5e6f32a",
   "metadata": {},
   "source": [
    "# Prac4"
   ]
  },
  {
   "cell_type": "code",
   "execution_count": null,
   "id": "d708ed25",
   "metadata": {
    "attributes": {
     "classes": [],
     "id": "",
     "include": "FALSE"
    }
   },
   "outputs": [],
   "source": [
    "tox <-data.frame(dose=rep(2^(0:5),2), dosage=rep(0:5,2),\n",
    " sex=factor(rep(c(\"male\",\"female\"),each=6)),\n",
    " killed=c(1,4,9,13,18,20,0,2,6,10,12,16), total=rep(20,12))\n",
    "tox$dose.f=as.factor(tox$dose)\n"
   ]
  },
  {
   "cell_type": "code",
   "execution_count": null,
   "id": "f9007292",
   "metadata": {},
   "outputs": [],
   "source": [
    "%%R\n",
    "head(tox)"
   ]
  },
  {
   "cell_type": "code",
   "execution_count": null,
   "id": "a5566cd5",
   "metadata": {},
   "outputs": [],
   "source": [
    "%%R\n",
    "bud.1 <- glm(killed/total~sex+dose.f, family=binomial,weight=total, data=tox)\n",
    "bud.2 <- glm(killed/total~sex*dose, family=binomial,weight=total, data=tox)\n",
    "bud.3 <- glm(killed/total~sex+dose, family=binomial,weight=total, data=tox)\n",
    "bud.4 <- glm(killed/total~sex+dose+I(dose^2), \n",
    "             family=binomial, weight=total, data=tox)\n",
    "bud.5 <- glm(killed/total~sex+dose+I(dose^2)+I(dose^3),\n",
    "            family=binomial,weight=total, data=tox)\n",
    "bud.6 <- glm(killed/total~sex*dosage, family=binomial,\n",
    "                 weight=total, data=tox)\n",
    "bud.7 <- glm(killed/total~sex+dosage, family=binomial,\n",
    "               weight=total, data=tox)\n",
    "bud.8 <- glm(killed/total~sex+dosage+I(dosage^2), family=binomial,\n",
    "                weight=total, data=tox)"
   ]
  },
  {
   "cell_type": "code",
   "execution_count": null,
   "id": "6362a461",
   "metadata": {},
   "outputs": [],
   "source": [
    "%%R\n",
    "# not nested models, couldn't be compared through anova\n",
    "anova(bud.1, bud.3, test=\"Chi\") # no sig diff between bud.1, bud.3\n",
    "anova(bud.1, bud.7, test=\"Chi\") # sig diff between bud.1, bud.7"
   ]
  },
  {
   "cell_type": "code",
   "execution_count": null,
   "id": "650a06c8",
   "metadata": {},
   "outputs": [],
   "source": [
    "%%R\n",
    "# Q2\n",
    "# CH3.19: model is acceptable\n",
    "deviance(bud.1)<qchisq(0.95, df = bud.1$df.residual)\n",
    "deviance(bud.2)<qchisq(0.95, df = bud.2$df.residual)"
   ]
  },
  {
   "cell_type": "code",
   "execution_count": null,
   "id": "bf7507fe",
   "metadata": {},
   "outputs": [],
   "source": [
    "%%R\n",
    "# eliminated m2 and m4, compare m4 and m5 as they are nested\n",
    "deviance(bud.4) - deviance(bud.5)<qchisq(0.95, df = bud.4$df.residual - bud.5$df.residual) # reject model4\n",
    "deviance(bud.5) - deviance(bud.1)<qchisq(0.95, df = bud.5$df.residual - bud.1$df.residual) # "
   ]
  },
  {
   "cell_type": "code",
   "execution_count": null,
   "id": "9596fa01",
   "metadata": {},
   "outputs": [],
   "source": [
    "%%R\n",
    "# Q3\n",
    "# i. Yes. z = −3.09 and |z| ≥ 1.96\n",
    "# ii.\n",
    "summary(bud.7)\n",
    "exp(1.1007)\n",
    "exp(1.0642)\n",
    "# iii.Find an estimate of the dose, or dosage, that would kill 50% of male budworm moths (the LD(50)). State, with reasons, whether the LD(50) for female moths would be greater or less than that for males.\n",
    "# logit(θ) = −3.473+1.1007+1.0642×dosage = 0 => dosage=2.23, LD(50) =2.23 for males\n",
    "# logit(θ) = −3.473 + 1.0642 × dosage = 0 => dosage=3.26, LD(50) =3.26 females\n",
    "\n",
    "# iv. Obtain an estimate of the probability that a female moth will die within three days if subjected to a dose of 16μg of pyrethroid (or a dosage of 4) for three days.\n",
    "# logit(θ) = −3.473 + 1.064 × 4 = 0.784\n",
    "# p = e^(logit(θ) ) / (1 + e^(logit(θ) ))"
   ]
  },
  {
   "cell_type": "markdown",
   "id": "d6de9f82",
   "metadata": {},
   "source": [
    "(d) A total of 240 budworms were used in this study. Describe what would have been the same and what would have been different in the output (residual deviances and their degrees of freedom, differences between residual deviances and their degrees of freedom, parameter estimates and their standard errors) had the data been treated as 240 ungrouped, 0–1 observations, rather than as 12 groups of 20 moths."
   ]
  },
  {
   "cell_type": "code",
   "execution_count": null,
   "id": "a729f682",
   "metadata": {},
   "outputs": [],
   "source": [
    "%%R\n",
    "# (d) Parameter estimates and standard errors would stay the same. Changes in residual deviances and changes in df for nested models would stay the same. But residual deviances and their df would be different."
   ]
  },
  {
   "cell_type": "markdown",
   "id": "35ee6fdb",
   "metadata": {},
   "source": [
    "## R Markdown\n",
    "\n",
    "This is an R Markdown document. Markdown is a simple formatting syntax for authoring HTML, PDF, and MS Word documents. For more details on using R Markdown see <http://rmarkdown.rstudio.com>.\n",
    "\n",
    "When you click the **Knit** button a document will be generated that includes both content as well as the output of any embedded R code chunks within the document. You can embed an R code chunk like this:"
   ]
  },
  {
   "cell_type": "code",
   "execution_count": null,
   "id": "a4b39ca6",
   "metadata": {},
   "outputs": [],
   "source": [
    "summary(cars)"
   ]
  },
  {
   "cell_type": "markdown",
   "id": "8904cc0a",
   "metadata": {},
   "source": [
    "## Including Plots\n",
    "\n",
    "You can also embed plots, for example:"
   ]
  },
  {
   "cell_type": "code",
   "execution_count": null,
   "id": "4f733de1",
   "metadata": {
    "attributes": {
     "classes": [],
     "echo": "FALSE",
     "id": ""
    }
   },
   "outputs": [],
   "source": [
    "plot(pressure)"
   ]
  },
  {
   "cell_type": "markdown",
   "id": "875d87ed",
   "metadata": {},
   "source": [
    "Note that the `echo = FALSE` parameter was added to the code chunk to prevent printing of the R code that generated the plot."
   ]
  }
 ],
 "metadata": {
  "language_info": {
   "name": "python"
  }
 },
 "nbformat": 4,
 "nbformat_minor": 5
}
