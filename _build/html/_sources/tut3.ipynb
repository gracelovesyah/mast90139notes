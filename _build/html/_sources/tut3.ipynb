{
 "cells": [
  {
   "attachments": {},
   "cell_type": "markdown",
   "id": "0e8465ea",
   "metadata": {},
   "source": [
    "# Prac3"
   ]
  },
  {
   "cell_type": "code",
   "execution_count": null,
   "id": "a6eed42e",
   "metadata": {
    "attributes": {
     "classes": [],
     "id": "",
     "include": "FALSE"
    }
   },
   "outputs": [],
   "source": [
    "knitr::opts_chunk$set(echo = TRUE)"
   ]
  },
  {
   "cell_type": "code",
   "execution_count": null,
   "id": "6240d8ec",
   "metadata": {},
   "outputs": [],
   "source": [
    "%%R\n",
    "library(faraway)\n",
    "data(pima)\n",
    "help(pima)\n",
    "dim(pima); head(pima)"
   ]
  },
  {
   "cell_type": "code",
   "execution_count": null,
   "id": "cbe3a6ff",
   "metadata": {},
   "outputs": [],
   "source": [
    "%%R\n",
    "pima$test.f <- factor(pima$test)\n",
    "levels(pima$test.f) <- c(\"negative\",\"positive\"); pima[1,]\n",
    "par(mfrow=c(1,2)); plot(insulin ~ test.f, pima)\n",
    "plot(jitter(test,0.1) ~ jitter(insulin), pima, xlab=\"insulin\", ylab=\"signs of diabetes\", pch=\"*\")\n",
    "library(ggplot2)\n",
    "ggplot(pima, aes(x=insulin, color=test.f)) + geom_histogram(position=\"dodge\", binwidth=30)\n",
    "ggplot(pima, aes(x=insulin, color=test.f))+geom_histogram(position=\"dodge\", binwidth=10, aes(y=..density..))\n",
    "summary(pima$insulin)\n",
    "summary(pima$test.f[pima$insulin==0])"
   ]
  },
  {
   "cell_type": "markdown",
   "id": "6e6afba3",
   "metadata": {},
   "source": [
    "We discovered that 0 is used to replace missing value."
   ]
  },
  {
   "cell_type": "code",
   "execution_count": null,
   "id": "fc3028f2",
   "metadata": {},
   "outputs": [],
   "source": [
    "%%R\n",
    "pima$insulinN <- pima$insulin\n",
    "pima$insulinN[pima$insulin==0]<-NA\n",
    "summary(pima$insulinN)\n",
    "summary(pima$insulinN[pima$test.f==\"negative\"])\n",
    "summary(pima$insulinN[pima$test.f==\"positive\"])"
   ]
  },
  {
   "cell_type": "code",
   "execution_count": null,
   "id": "46e97c32",
   "metadata": {},
   "outputs": [],
   "source": [
    "%%R\n",
    "ggplot(pima, aes(x=insulinN, color=test.f))+geom_histogram(position=\"dodge\", binwidth=30)\n",
    "ggplot(pima, aes(x=insulinN, color=test.f))+geom_histogram(position=\"dodge\", binwidth=30, aes(y=..density..))"
   ]
  },
  {
   "cell_type": "code",
   "execution_count": null,
   "id": "36d7325b",
   "metadata": {},
   "outputs": [],
   "source": [
    "%%R\n",
    "pima$pregnantN=pima$pregnant; pima$pregnantN[pima$pregnant==0]<-NA\n",
    "    summary(pima$pregnantN); table(pima$pregnant)\n",
    "pima$glucoseN=pima$glucose; pima$glucoseN[pima$glucose==0.0]<-NA; summary(pima$glucoseN) \n",
    "pima$diastolicN=pima$diastolic; pima$diastolicN[pima$diastolic==0.0]<-NA; summary(pima$diastolicN)\n",
    "pima$tricepsN=pima$triceps; pima$tricepsN[pima$triceps==0.0]<-NA; summary(pima$tricepsN) \n",
    "pima$bmiN=pima$bmi; pima$bmiN[pima$bmi==0.0]<-NA; summary(pima$bmiN); summary(pima)\n",
    "lmodNA <- glm(test ~ pregnantN+glucoseN+diastolicN+tricepsN+insulinN+bmiN+diabetes+age, family = binomial, pima) \n",
    "summary(lmodNA)"
   ]
  },
  {
   "cell_type": "markdown",
   "id": "bca4b425",
   "metadata": {},
   "source": [
    "## R Markdown\n",
    "\n",
    "This is an R Markdown document. Markdown is a simple formatting syntax for authoring HTML, PDF, and MS Word documents. For more details on using R Markdown see <http://rmarkdown.rstudio.com>.\n",
    "\n",
    "When you click the **Knit** button a document will be generated that includes both content as well as the output of any embedded R code chunks within the document. You can embed an R code chunk like this:"
   ]
  },
  {
   "cell_type": "code",
   "execution_count": null,
   "id": "ca41022f",
   "metadata": {},
   "outputs": [],
   "source": [
    "summary(cars)"
   ]
  },
  {
   "cell_type": "markdown",
   "id": "154db3f1",
   "metadata": {},
   "source": [
    "## Including Plots\n",
    "\n",
    "You can also embed plots, for example:"
   ]
  },
  {
   "cell_type": "code",
   "execution_count": null,
   "id": "349904b1",
   "metadata": {
    "attributes": {
     "classes": [],
     "echo": "FALSE",
     "id": ""
    }
   },
   "outputs": [],
   "source": [
    "plot(pressure)"
   ]
  },
  {
   "cell_type": "markdown",
   "id": "c5878f1c",
   "metadata": {},
   "source": [
    "Note that the `echo = FALSE` parameter was added to the code chunk to prevent printing of the R code that generated the plot."
   ]
  }
 ],
 "metadata": {
  "language_info": {
   "name": "python"
  }
 },
 "nbformat": 4,
 "nbformat_minor": 5
}
