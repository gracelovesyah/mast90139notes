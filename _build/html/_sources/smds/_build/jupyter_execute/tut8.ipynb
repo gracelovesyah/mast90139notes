{
 "cells": [
  {
   "attachments": {},
   "cell_type": "markdown",
   "id": "e7e42ff7",
   "metadata": {},
   "source": [
    "# Prac8"
   ]
  },
  {
   "cell_type": "code",
   "execution_count": 1,
   "id": "3273c177",
   "metadata": {},
   "outputs": [
    {
     "name": "stderr",
     "output_type": "stream",
     "text": [
      "UsageError: Cell magic `%%R` not found.\n"
     ]
    }
   ],
   "source": [
    "%%R\n",
    "library(faraway)\n",
    "help(hsb)\n",
    "dim(hsb)\n",
    "summary(hsb)\n",
    "head(hsb)\n",
    "my_data <- read.csv('/Users/graceliu/Downloads/Mstatus.csv')\n",
    "\n",
    "my_data"
   ]
  },
  {
   "cell_type": "code",
   "execution_count": null,
   "id": "10147623",
   "metadata": {},
   "outputs": [],
   "source": [
    "%%R\n",
    "ms1=glm(freq~gend*PMS*EMS*MS, family=poisson, data=my_data)\n",
    "anova(ms1,test=\"Chi\")"
   ]
  },
  {
   "cell_type": "code",
   "execution_count": null,
   "id": "546a281e",
   "metadata": {},
   "outputs": [],
   "source": [
    "%%R\n",
    "#step(ms1)\n",
    "(scopems=list(lower=freq~gend*PMS*EMS, upper=freq~gend*PMS*EMS*MS))\n",
    "step.ms2=step(ms1, scope=scopems)"
   ]
  },
  {
   "cell_type": "code",
   "execution_count": null,
   "id": "2fff8f9d",
   "metadata": {},
   "outputs": [],
   "source": [
    "%%R\n",
    "mod2 <- glm(freq ~ gend + PMS + EMS + MS + gend:PMS + gend:EMS + PMS:EMS + \n",
    "    gend:MS + PMS:MS + EMS:MS + gend:PMS:EMS + PMS:EMS:MS, family=poisson, data=my_data)\n",
    "mod3 <- glm(freq ~ gend + PMS + EMS + MS + gend:PMS + gend:EMS + PMS:EMS + PMS:MS + EMS:MS + gend:PMS:EMS + PMS:EMS:MS, family=poisson, data=my_data)\n",
    "anova(mod3, mod2, test = \"Chi\")"
   ]
  },
  {
   "cell_type": "code",
   "execution_count": null,
   "id": "e405dd54",
   "metadata": {},
   "outputs": [],
   "source": [
    "%%R\n",
    "(my_data)\n",
    "msb1=glm(freq.b/N.b~gend.b*PMS.b*EMS.b, family=binomial, weight=N.b, data=my_data)\n",
    "msb2=glm(freq.b/N.b~gend.b+PMS.b*EMS.b, family=binomial, weight=N.b, data=my_data)\n",
    "anova(msb1, test=\"Chi\")\n",
    "anova(msb2, msb1, test=\"Chi\") # p = 0.8737 >0.05, can't reject the null hypothesis where smaller model is significant. So smaller model is significant.\n",
    "step(msb1)\n",
    "# PMS.b, EMS.b, PMS.b:EMS.b "
   ]
  },
  {
   "cell_type": "code",
   "execution_count": null,
   "id": "b4338d8f",
   "metadata": {},
   "outputs": [],
   "source": [
    "%%R\n",
    "data2 <- read.csv('/Users/graceliu/Downloads/mobilityDenmark-1.csv')\n",
    "dim(data2)\n",
    "data2\n"
   ]
  },
  {
   "cell_type": "markdown",
   "id": "f9192f9a",
   "metadata": {},
   "source": [
    "## R Markdown\n",
    "\n",
    "This is an R Markdown document. Markdown is a simple formatting syntax for authoring HTML, PDF, and MS Word documents. For more details on using R Markdown see <http://rmarkdown.rstudio.com>.\n",
    "\n",
    "When you click the **Knit** button a document will be generated that includes both content as well as the output of any embedded R code chunks within the document. You can embed an R code chunk like this:"
   ]
  },
  {
   "cell_type": "code",
   "execution_count": null,
   "id": "64a01753",
   "metadata": {},
   "outputs": [],
   "source": [
    "summary(cars)"
   ]
  },
  {
   "cell_type": "markdown",
   "id": "fee63d27",
   "metadata": {},
   "source": [
    "## Including Plots\n",
    "\n",
    "You can also embed plots, for example:"
   ]
  },
  {
   "cell_type": "code",
   "execution_count": null,
   "id": "ea0c1f43",
   "metadata": {
    "attributes": {
     "classes": [],
     "echo": "FALSE",
     "id": ""
    }
   },
   "outputs": [],
   "source": [
    "plot(pressure)"
   ]
  },
  {
   "cell_type": "markdown",
   "id": "f556c373",
   "metadata": {},
   "source": [
    "Note that the `echo = FALSE` parameter was added to the code chunk to prevent printing of the R code that generated the plot."
   ]
  }
 ],
 "metadata": {
  "kernelspec": {
   "display_name": "myenv",
   "language": "python",
   "name": "python3"
  },
  "language_info": {
   "codemirror_mode": {
    "name": "ipython",
    "version": 3
   },
   "file_extension": ".py",
   "mimetype": "text/x-python",
   "name": "python",
   "nbconvert_exporter": "python",
   "pygments_lexer": "ipython3",
   "version": "3.8.5"
  }
 },
 "nbformat": 4,
 "nbformat_minor": 5
}