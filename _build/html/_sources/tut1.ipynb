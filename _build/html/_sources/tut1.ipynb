{
 "cells": [
  {
   "attachments": {},
   "cell_type": "markdown",
   "id": "7fef8cff",
   "metadata": {},
   "source": [
    "# Prac1"
   ]
  },
  {
   "cell_type": "code",
   "execution_count": null,
   "id": "3c70cb71",
   "metadata": {},
   "outputs": [],
   "source": [
    "%%R\n",
    "library(faraway)\n",
    "library(graphics)\n",
    "data(swiss)\n",
    "help(swiss)\n",
    "dim(swiss); head(swiss)"
   ]
  },
  {
   "cell_type": "code",
   "execution_count": null,
   "id": "7acda257",
   "metadata": {},
   "outputs": [],
   "source": [
    "%%R\n",
    "summary(swiss)\n",
    "# if mean and median vary a lot, the data is biased"
   ]
  },
  {
   "cell_type": "markdown",
   "id": "af9ebf15",
   "metadata": {},
   "source": [
    "1. An initial data analysis that explores the numerical and graphical characteristics of the data."
   ]
  },
  {
   "cell_type": "code",
   "execution_count": null,
   "id": "416b06fc",
   "metadata": {},
   "outputs": [],
   "source": [
    "%%R\n",
    "plot(density(swiss$Catholic), main = \"Catholic\", xlab = \"Catholic\")\n",
    "hist(swiss$Catholic, freq = F)\n",
    "plot(density(swiss$Education), main = \"Education\", xlab = \"Education\")\n",
    "hist(swiss$Education, freq = F)\n"
   ]
  },
  {
   "cell_type": "code",
   "execution_count": null,
   "id": "884c81a8",
   "metadata": {},
   "outputs": [],
   "source": [
    "%%R\n",
    "cor(swiss)"
   ]
  },
  {
   "cell_type": "markdown",
   "id": "93392352",
   "metadata": {},
   "source": [
    "All 6 variables are numerical with weak/moderate coorelation"
   ]
  },
  {
   "cell_type": "code",
   "execution_count": null,
   "id": "71834aeb",
   "metadata": {},
   "outputs": [],
   "source": [
    "%%R\n",
    "plot(swiss)"
   ]
  },
  {
   "cell_type": "code",
   "execution_count": null,
   "id": "2b5b2539",
   "metadata": {},
   "outputs": [],
   "source": [
    "%%R\n",
    "plot(swiss, panel = panel.smooth)"
   ]
  },
  {
   "cell_type": "code",
   "execution_count": null,
   "id": "5ad2deca",
   "metadata": {},
   "outputs": [],
   "source": [
    "%%R\n",
    "pairs(swiss, panel = panel.smooth, main = \"swiss data\", col = 2 + (swiss$Catholic > 50))\n",
    "\n"
   ]
  },
  {
   "cell_type": "code",
   "execution_count": null,
   "id": "7c98090b",
   "metadata": {},
   "outputs": [],
   "source": [
    "%%R\n",
    "plot(density(swiss$Fertility), main = \"Fertility\", xlab = \"Fertility\")\n",
    "hist(swiss$Fertility, freq = F)"
   ]
  },
  {
   "cell_type": "code",
   "execution_count": null,
   "id": "47169612",
   "metadata": {},
   "outputs": [],
   "source": [
    "%%R\n",
    "qqnorm(swiss$Fertility)\n",
    "qqline(swiss$Fertility)"
   ]
  },
  {
   "cell_type": "markdown",
   "id": "ec7511f4",
   "metadata": {},
   "source": [
    "# Question 2：Variable selection to choose the best model."
   ]
  },
  {
   "cell_type": "code",
   "execution_count": null,
   "id": "d95029d1",
   "metadata": {},
   "outputs": [],
   "source": [
    "%%R\n",
    "lmod = lm(Fertility~., data = swiss)\n",
    "coef(lmod)\n",
    "sumary(lmod)"
   ]
  },
  {
   "cell_type": "code",
   "execution_count": null,
   "id": "d1137274",
   "metadata": {},
   "outputs": [],
   "source": [
    "%%R\n",
    "drop1(lmod, test = \"F\")"
   ]
  },
  {
   "cell_type": "code",
   "execution_count": null,
   "id": "c31b303b",
   "metadata": {},
   "outputs": [],
   "source": [
    "%%R\n",
    "lmodi = lmodi<-lm(Fertility~(Agriculture+Education+Catholic+Infant.Mortality)^2, swiss)\n",
    "\n",
    "summary(lmodi)"
   ]
  },
  {
   "cell_type": "code",
   "execution_count": null,
   "id": "446c3670",
   "metadata": {},
   "outputs": [],
   "source": [
    "%%R\n",
    "# bic: k = log(n)\n",
    "# aic: k = 2 \n",
    "n = 47\n",
    "smallm = step(lmodi, trace = F, k = log(n))\n",
    "summary(smallm)\n",
    "\n",
    "par(mfrow=c(2,2)); termplot(smallm,partial=T,terms=NULL); \n",
    "plot(smallm)"
   ]
  },
  {
   "cell_type": "markdown",
   "id": "deda19b9",
   "metadata": {},
   "source": [
    "# QUESTION 3： An exploration of transformations to improve the fit of the model."
   ]
  },
  {
   "cell_type": "code",
   "execution_count": null,
   "id": "c6116abd",
   "metadata": {},
   "outputs": [],
   "source": [
    "%%R\n",
    "library(MASS)\n",
    "Wlmodp<-lm(Fertility~Agriculture+Education+poly(Catholic,2)+Infant.Mortality + Education:poly(Catholic,2), swiss) \n",
    "summary(Wlmodp)\n",
    "\n",
    "Wlmodp1<-lm(Fertility~Agriculture + Education + poly(Catholic,2) + Infant.Mortality + Education:Catholic, swiss)\n",
    "summary(Wlmodp1)\n",
    "\n"
   ]
  },
  {
   "cell_type": "code",
   "execution_count": null,
   "id": "8400f90a",
   "metadata": {},
   "outputs": [],
   "source": [
    "%%R\n",
    "plot(Wlmodp1)\n",
    "termplot(Wlmodp,partial=T,terms=NULL)\n",
    "\n",
    "library(splines)\n",
    "Wlmods<-lm(Fertility~Agriculture+Education+bs(Catholic,3)+Infant.Mortality + Education:bs(Catholic,3), swiss) \n",
    "summary(Wlmods)\n",
    "\n",
    "Wlmods1<-lm(Fertility~Agriculture+Education+bs(Catholic,3)+Infant.Mortality + Education:Catholic, swiss) \n",
    "summary(Wlmods1)\n",
    "\n",
    "## bs function:  It generates a basis matrix for representing the family of piecewise polynomials with the specified interior knots and degree, evaluated at the values of x "
   ]
  },
  {
   "cell_type": "markdown",
   "id": "000c5b3a",
   "metadata": {},
   "source": [
    "# Question 4: Diagnostics to check the assumptions of your model."
   ]
  },
  {
   "cell_type": "code",
   "execution_count": null,
   "id": "f516c9ca",
   "metadata": {},
   "outputs": [],
   "source": [
    "%%R\n",
    "(1:47)[rownames(swiss)==\"Sion\"]  #38\n",
    "(1:47)[rownames(swiss)==\"Sierre\"] #37\n",
    "(1:47)[rownames(swiss)==\"Porrentruy\"] #6\n",
    "(1:47)[rownames(swiss)==\"Rive Gauche\"] #47"
   ]
  },
  {
   "cell_type": "markdown",
   "id": "a0999a16",
   "metadata": {},
   "source": [
    "# Question 5: Some predictions of future observations for interesting values of the predictors."
   ]
  },
  {
   "cell_type": "code",
   "execution_count": null,
   "id": "c6138053",
   "metadata": {},
   "outputs": [],
   "source": [
    "%%R\n",
    "pdf <- data.frame(Agriculture=mean(swiss$Agriculture), Examination=mean(swiss$Examination),\n",
    "Education=mean(swiss$Education), Catholic=mean(swiss$Catholic), Infant.Mortality=mean(swiss$Infant.Mortality)) \n",
    "pp <- predict(smallm,new=pdf, se.fit=T); \n",
    "pp"
   ]
  }
 ],
 "metadata": {
  "language_info": {
   "name": "python"
  }
 },
 "nbformat": 4,
 "nbformat_minor": 5
}
