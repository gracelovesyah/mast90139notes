{
 "cells": [
  {
   "attachments": {},
   "cell_type": "markdown",
   "id": "f834d9b3",
   "metadata": {},
   "source": [
    "# Prac2"
   ]
  },
  {
   "cell_type": "code",
   "execution_count": null,
   "id": "d77489c2",
   "metadata": {
    "attributes": {
     "classes": [],
     "id": "",
     "include": "FALSE"
    }
   },
   "outputs": [],
   "source": [
    "library(faraway)\n",
    "library(graphics)\n",
    "data(swiss)\n",
    "help(swiss)\n",
    "dim(swiss); head(swiss)"
   ]
  },
  {
   "cell_type": "markdown",
   "id": "64599661",
   "metadata": {},
   "source": [
    "1. An initial data analysis that explores the numerical and graphical characteristics of the data."
   ]
  },
  {
   "cell_type": "code",
   "execution_count": null,
   "id": "7bf61a3d",
   "metadata": {},
   "outputs": [],
   "source": [
    "%%R\n",
    "par(mfrow = c(2,2))\n",
    "plot(density(swiss$Catholic), main = \"Catholic\", xlab = \"Catholic\")\n",
    "hist(swiss$Catholic, freq = F)\n",
    "plot(density(swiss$Education), main = \"Education\", xlab = \"Education\")\n",
    "hist(swiss$Education, freq = F)\n",
    "plot(density(swiss$Fertility), main = \"Fertility\", xlab = \"Fertility\")\n",
    "hist(swiss$Fertility, freq = F)\n",
    "plot(density(swiss$Agriculture), main = \"Agriculture\", xlab = \"Agriculture\")\n",
    "hist(swiss$Agriculture, freq = F)\n",
    "plot(density(swiss$Examination), main = \"Examination\", xlab = \"Examination\")\n",
    "hist(swiss$Examination, freq = F)"
   ]
  },
  {
   "cell_type": "markdown",
   "id": "03d45a99",
   "metadata": {},
   "source": [
    "2. Variable selection to choose the best model."
   ]
  },
  {
   "cell_type": "code",
   "execution_count": null,
   "id": "857f73b8",
   "metadata": {},
   "outputs": [],
   "source": [
    "%%R\n",
    "lmod<-lm(Fertility~Agriculture+Examination+Education+Catholic+Infant.Mortality, swiss)\n",
    "summary(lmod); \n",
    "drop1(lmod, test=\"F\")\n",
    "\n",
    "lmod1<-lm(Fertility~Agriculture+Education+Catholic+Infant.Mortality, swiss)\n",
    "summary(lmod1); \n",
    "\n",
    "anova(lmod1, lmod)\n",
    "## question: why drop1 method suggest that we should drop Examination whilst the anova test suggest there is no difference between the model with Examination and the model without Examination? which model should we keep?\n",
    "\n",
    "# keep the simple model, as AIC prefers more variables which may lead to overfitting."
   ]
  },
  {
   "cell_type": "markdown",
   "id": "87ba78c2",
   "metadata": {},
   "source": [
    "Firstly we explore model with no interference."
   ]
  },
  {
   "cell_type": "code",
   "execution_count": null,
   "id": "91bb2388",
   "metadata": {},
   "outputs": [],
   "source": [
    "%%R\n",
    "lmod <- lm(Fertility~ Agriculture + Examination + Education + Catholic + Infant.Mortality, data = swiss)\n",
    "summary(lmod)\n",
    "# apply ANOVA F test\n",
    "drop1(lmod, test=\"F\")\n",
    "# We discovered that examination should be dropped, hence the small model is:\n",
    "lmod1<-lm(Fertility~Agriculture+Education+Catholic+Infant.Mortality, swiss)\n",
    "# apply t-test\n",
    "anova(lmod1, lmod)\n",
    "# Since P-value here is greater than 0.05, there is a difference between the two models. Hence Examination should be removed. "
   ]
  },
  {
   "cell_type": "markdown",
   "id": "7fdb63c0",
   "metadata": {},
   "source": [
    "Then, we explore model with interference."
   ]
  },
  {
   "cell_type": "code",
   "execution_count": null,
   "id": "daf748dd",
   "metadata": {},
   "outputs": [],
   "source": [
    "%%R\n",
    "lmodi<-lm(Fertility~(Agriculture+Education+Catholic+Infant.Mortality)^2, swiss)\n",
    "smallm <- step(lmodi,trace=FALSE, k=log(47)) #BIC. AIC if k=2; k = log(47) because: this data frame contains 47 observations\n",
    "summary(smallm)"
   ]
  },
  {
   "cell_type": "code",
   "execution_count": null,
   "id": "a5dc99f7",
   "metadata": {},
   "outputs": [],
   "source": [
    "%%R\n",
    "par(mfrow=c(2,2)); termplot(smallm,partial=T,terms=NULL); plot(smallm)"
   ]
  },
  {
   "cell_type": "markdown",
   "id": "7fd9373c",
   "metadata": {},
   "source": [
    "3. An exploration of transformations to improve the fit of the model."
   ]
  },
  {
   "cell_type": "code",
   "execution_count": null,
   "id": "2b499bd4",
   "metadata": {},
   "outputs": [],
   "source": [
    "%%R\n",
    "# As we discovered in Q1, Catholic data is not normally distributed, hence, we are considering to apply transformations.\n",
    "# From the previous question, we discovered that the effective model is smallm: lm(formula = Fertility ~ Agriculture + Education + Catholic + Infant.Mortality + Education:Catholic, data = swiss)\n",
    "# Hence we transform Catholic in smallm\n",
    "\n"
   ]
  },
  {
   "cell_type": "markdown",
   "id": "d3eecdcf",
   "metadata": {},
   "source": [
    "## Including Plots\n",
    "\n",
    "You can also embed plots, for example:"
   ]
  },
  {
   "cell_type": "code",
   "execution_count": null,
   "id": "9e7e82ed",
   "metadata": {
    "attributes": {
     "classes": [],
     "echo": "FALSE",
     "id": ""
    }
   },
   "outputs": [],
   "source": [
    "plot(pressure)"
   ]
  },
  {
   "cell_type": "markdown",
   "id": "d0a7d73a",
   "metadata": {},
   "source": [
    "Note that the `echo = FALSE` parameter was added to the code chunk to prevent printing of the R code that generated the plot."
   ]
  }
 ],
 "metadata": {
  "language_info": {
   "name": "python"
  }
 },
 "nbformat": 4,
 "nbformat_minor": 5
}
