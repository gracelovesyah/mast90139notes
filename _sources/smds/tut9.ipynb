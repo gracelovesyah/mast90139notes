{
 "cells": [
  {
   "attachments": {},
   "cell_type": "markdown",
   "id": "0a34d17b",
   "metadata": {},
   "source": [
    "# Prac9"
   ]
  },
  {
   "cell_type": "code",
   "execution_count": null,
   "id": "8fc4fa01",
   "metadata": {},
   "outputs": [],
   "source": [
    "%%R\n",
    "library(faraway)\n",
    "help(hsb)\n",
    "dim(hsb) #n=200, p=11\n",
    "library(nnet)\n",
    "head(hsb)\n",
    "str(hsb) #check the type (int, factor etc.)\n",
    "summary(hsb)\n",
    "summary(hsb$prog)\n",
    "is.factor(hsb$prog)\n",
    "help(multinom)"
   ]
  },
  {
   "cell_type": "code",
   "execution_count": null,
   "id": "570cde93",
   "metadata": {},
   "outputs": [],
   "source": [
    "%%R\n",
    "\n",
    "\n",
    "\n",
    "```{r}\n",
    "hsb0 <-multinom(prog~1,data=hsb)\n",
    "hsb0\n",
    "head(fitted(hsb0))# we don't have predictor so its the same, as we are calculating the mean for all the data\n",
    "anova(hsb0) # have to compare 2 multinational model\n",
    "```\n"
   ]
  },
  {
   "cell_type": "markdown",
   "id": "335a50c3",
   "metadata": {},
   "source": [
    "3. Fit a trinomial logistic model with prog as the response and all other variables except id as predictors (untransformed, and no interaction terms). Save the results into hsb1. Then explore hsb1 using the commands such as summary, anova, fitted, prediction, and deviance etc. to see whether you understand the R outcomes and a"
   ]
  },
  {
   "cell_type": "code",
   "execution_count": null,
   "id": "8fba9155",
   "metadata": {},
   "outputs": [],
   "source": [
    "%%R\n",
    "hsb1<-multinom(prog~gender+race+ses+schtyp+read+write+math+science+socst,data=hsb, Hess=T); hsb1\n",
    "# Hess=T, we used hessian matrix to record the covariance to calculate confidence interval later\n",
    "coef(hsb1)\n",
    "head(fitted(hsb1))\n",
    "coef(summary(hsb1))\n",
    "hsb1$fitted\n",
    "hsb1$residuals\n",
    "hsb1$deviance\n",
    "hsb1$edf\n",
    "hsb1$AIC\n",
    "hsb1$Hessian\n",
    "predict(hsb1, hsb[102, ],type=\"probs\")\n",
    "predict(hsb1, hsb[hsb$id==99, ],type=\"probs\", se.fit=TRUE)"
   ]
  },
  {
   "cell_type": "code",
   "execution_count": null,
   "id": "ec4aad71",
   "metadata": {},
   "outputs": [],
   "source": [
    "%%R\n",
    "hsb1.aic <- step(hsb1, k=2, trace=1) # 2 by default\n",
    "hsb1.aic\n",
    "summary(hsb1.aic)\n",
    "hsb1.bic <- step(hsb1, k=log(200.0), trace=1) # n = 200\n",
    "hsb1.bic"
   ]
  },
  {
   "cell_type": "markdown",
   "id": "9d33925d",
   "metadata": {},
   "source": [
    "## R Markdown"
   ]
  },
  {
   "cell_type": "code",
   "execution_count": null,
   "id": "b53aca1f",
   "metadata": {},
   "outputs": [],
   "source": [
    "%%R\n",
    "anova(hsb1, hsb1.aic) # p = 0.6439616 > 0.05, can't reject simpler model.\n",
    "summary(hsb1.aic)\n",
    "# Hence, there is no significant difference (p-value = 0.64396) between hsb1 and hsb1.aic (also hsb1.bic because hsb1.aic and hsb1.bic are the same) w.r.t. model goodness of fit. Therefore, we prefer model hsb1.aic because it is simplier than hsb1.\n"
   ]
  },
  {
   "cell_type": "markdown",
   "id": "6c802ce8",
   "metadata": {},
   "source": [
    "There are two students A and B who have the same math, science and social science scores. Student A comes from a high ses class and private school, while student B comes from a low ses class and public school. Consider the model hsb1.aic."
   ]
  },
  {
   "cell_type": "code",
   "execution_count": null,
   "id": "998cd59e",
   "metadata": {},
   "outputs": [],
   "source": [
    "%%R\n",
    "\n",
    "V<-solve(hsb1.aic$Hessian)\n",
    "V\n",
    "dim(V)\n",
    "V[c(2,4),c(2,4)]\n",
    "V#   academic, general vocation\n",
    "sqrt(c(-1,-1)%*%V[c(2,4),c(2,4)]%*%c(-1,-1))  #for 6(a) general & academic\n",
    "# studentA: high ses class and private school (in the basis)\n",
    "# studentB: high low class and public school V[c(2,4),c(2,4)]\n",
    "\n",
    "sqrt(c(-1,-1)%*%V[c(9,11),c(9,11)]%*%c(-1,-1)) #for 6(b) vocation academic\n",
    "\n",
    "sqrt(c(-1,-1,1,1)%*%V[c(2,4,9,11),c(2,4,9,11)]%*%c(-1,-1,1,1)) #for 6(c) \n",
    "\n",
    "hsb[hsb$id==99,]"
   ]
  },
  {
   "cell_type": "code",
   "execution_count": null,
   "id": "495e612f",
   "metadata": {},
   "outputs": [],
   "source": [
    "%%R\n",
    "V[c(2,4),c(2,4)] # private and high is in the basis so when we are doing V[c(2,4),c(2,4)] is already comparing "
   ]
  }
 ],
 "metadata": {
  "language_info": {
   "name": "python"
  }
 },
 "nbformat": 4,
 "nbformat_minor": 5
}
