{
 "cells": [
  {
   "attachments": {},
   "cell_type": "markdown",
   "id": "ca256b11",
   "metadata": {},
   "source": [
    "# Prac6"
   ]
  },
  {
   "cell_type": "code",
   "execution_count": null,
   "id": "5a7ebb9c",
   "metadata": {},
   "outputs": [],
   "source": [
    "%%R\n",
    "Y <- c(2, 3, 3, 4, 3, 2, 0, 3, 8, 11, 6, 6, 7, 12, 11, 11)\n",
    "N <- c(119, 124, 50, 26, 88, 100, 43, 23, 127, 220, 74, 49, 74, 111, 57, 44)\n",
    "BP <- factor(rep(1:4, 4))\n",
    "CHOL <- factor(rep(1:4, rep(4, 4)))\n",
    "fit.1 <- glm(Y/N ~ 1, weights = N, family = \"binomial\")\n",
    "fit.2 <- glm(Y/N ~ CHOL, weights = N, family = \"binomial\")\n",
    "fit.3 <- glm(Y/N ~ BP, weights = N, family = \"binomial\")\n",
    "fit.4 <- glm(Y/N ~ CHOL + BP, weights = N, family = \"binomial\")"
   ]
  },
  {
   "cell_type": "code",
   "execution_count": null,
   "id": "da4d6f95",
   "metadata": {},
   "outputs": [],
   "source": [
    "%%R\n",
    "peard <- sum(resid(fit.5, type = \"pearson\")^2)\n",
    "1-pchisq(peard,13) # >0.05"
   ]
  },
  {
   "cell_type": "markdown",
   "id": "63fdf266",
   "metadata": {},
   "source": [
    "4. Use R to fit the logistic model specified in question 3. Verify the conclusions drawn in the previous question. Also use the Pearson deviance to test the adequacy of this model."
   ]
  },
  {
   "cell_type": "code",
   "execution_count": null,
   "id": "12944460",
   "metadata": {},
   "outputs": [],
   "source": [
    "BP.v <- rep(1:4, 4)\n",
    "CHOL.v <- rep(1:4, rep(4, 4))\n",
    "fit.5 <- glm(Y/N ~ CHOL.v + BP.v, weights = N, family = \"binomial\")\n",
    "summary(fit.5)\n",
    "# logit = -5.0916  + 0.53C + 0.4405B"
   ]
  },
  {
   "cell_type": "markdown",
   "id": "862ce971",
   "metadata": {},
   "source": [
    "5. List both the deviance residuals and Pearson residuals of the model in 3 in a matrix form. Then comment on these residuals."
   ]
  },
  {
   "cell_type": "code",
   "execution_count": null,
   "id": "c30cfa83",
   "metadata": {},
   "outputs": [],
   "source": [
    "%%R\n",
    "matrix(resid(fit.5, type=\"deviance\"), 4, 4, byrow=T)"
   ]
  },
  {
   "cell_type": "code",
   "execution_count": null,
   "id": "d53cd874",
   "metadata": {},
   "outputs": [],
   "source": [
    "%%R\n",
    "matrix(resid(fit.5, type=\"pearson\"), 4, 4, byrow=T)\n"
   ]
  },
  {
   "cell_type": "code",
   "execution_count": null,
   "id": "ae362416",
   "metadata": {},
   "outputs": [],
   "source": [
    "%%R\n",
    "diff=resid(fit.5, type=\"pearson\")-resid(fit.5, type=\"deviance\")\n",
    "matrix(diff, 4, 4, byrow=T)"
   ]
  },
  {
   "cell_type": "markdown",
   "id": "f5bc6d45",
   "metadata": {},
   "source": [
    "6. Fit a logistic regression model for coronary heart disease (CHD) which includes CHOL and BP, both as variables, plus their interaction term. Test the significance of this interaction term in the model by both the Wald test and the likelihood ratio test. Then compare this model with the linear trend model in question 3, and draw a conclusion."
   ]
  },
  {
   "cell_type": "code",
   "execution_count": null,
   "id": "8a750ff3",
   "metadata": {},
   "outputs": [],
   "source": [
    "%%R\n",
    "fit.6 <- glm(Y/N ~ (CHOL.v + BP.v)^2, weights = N, family = \"binomial\")\n",
    "summary(fit.6)\n",
    "anova(fit.6, test=\"Chi\")\n",
    "# 0.34239 > 0.05, no sig improvements with interaction term, hence simpler model is better"
   ]
  },
  {
   "cell_type": "markdown",
   "id": "22a5d9bc",
   "metadata": {},
   "source": [
    "7. Using the model in 3, estimate the odds ratio of CHD when CHOL increases by one level and BP is kept unchanged. Also find an approximately 95% confidence interval for this odds ratio.\n",
    "chapter 4, CI of odds ratio"
   ]
  },
  {
   "cell_type": "code",
   "execution_count": null,
   "id": "c75f230b",
   "metadata": {},
   "outputs": [],
   "source": [
    "%%R\n",
    "fit.3 <- glm(Y/N ~ BP, weights = N, family = \"binomial\")\n",
    "summary(fit.3)\n",
    "# exp(0.53)\n",
    "# 0.5300 +- 1.96 * 0.1166  = (0.3015, 0.7585)\n",
    "# (exp(0.3015) , exp(0.7585))"
   ]
  },
  {
   "cell_type": "markdown",
   "id": "b631428c",
   "metadata": {},
   "source": [
    "8. Using the model in 3, estimate the odds ratio of CHD when BP increases by two levels and CHOL is kept unchanged. Also find an approximately 95% confidence interval for this odds ratio."
   ]
  },
  {
   "cell_type": "code",
   "execution_count": null,
   "id": "5f55617b",
   "metadata": {},
   "outputs": [],
   "source": [
    "%%R\n",
    "# exp(2 * 0.4405)\n",
    "# 2 * 0.4405 +- 1.96 × 2 × 0.1091 = (0.453, 1.309)\n",
    "# (exp(0.453) , exp(1.309))\n"
   ]
  },
  {
   "cell_type": "markdown",
   "id": "95bbf512",
   "metadata": {},
   "source": [
    "9. Using the model in 3, estimate the probability of CHD when CHOL is at level 4 and BP\n",
    "is at level 3. Also find an approximately 95% confidence interval for this probability."
   ]
  },
  {
   "cell_type": "code",
   "execution_count": null,
   "id": "ada95d07",
   "metadata": {},
   "outputs": [],
   "source": [
    "%%R\n",
    "summary(fit.5)$cov.unscaled"
   ]
  },
  {
   "cell_type": "markdown",
   "id": "ca18c578",
   "metadata": {},
   "source": [
    "10. Two people A and B were included in this study. People A had his CHOL at level 3 and BP at level 1, while people B had his CHOL at level 1 and BP at level 3. Estimate the odds ratio in regard to CHD for people A versus B based on using the model in 3. Also calculate an approximate 95% confidence interval for this odds ratio."
   ]
  },
  {
   "cell_type": "code",
   "execution_count": null,
   "id": "40a6699b",
   "metadata": {},
   "outputs": [],
   "source": [
    "%%R\n",
    "# ((1,3,1)−(1,1,3))·(−5.0916,0.53,0.4405)⊤ =0.179\n",
    "sqrt(c(0,2,-2)%*%summary(fit.5)$cov.un%*%matrix(c(0,2,-2),3,1))"
   ]
  },
  {
   "cell_type": "markdown",
   "id": "80ac2973",
   "metadata": {},
   "source": [
    "# Q6 - Q10"
   ]
  }
 ],
 "metadata": {
  "language_info": {
   "name": "python"
  }
 },
 "nbformat": 4,
 "nbformat_minor": 5
}
