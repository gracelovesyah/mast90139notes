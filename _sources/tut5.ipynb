{
 "cells": [
  {
   "attachments": {},
   "cell_type": "markdown",
   "id": "9da4c9d0",
   "metadata": {},
   "source": [
    "# Prac5"
   ]
  },
  {
   "cell_type": "code",
   "execution_count": null,
   "id": "8613a465",
   "metadata": {},
   "outputs": [],
   "source": [
    "x <- c(32.7, 38.3, 39.8, 30.0, 34.3, 36.3, 32.5, 40.0, 30.4, 28.2)\n",
    "y <- c(5, 10, 12, 3, 6, 8, 4, 12, 3, 3)\n",
    "glm.2a=glm(y~x, family=poisson)\n",
    "summary(glm.2a)"
   ]
  },
  {
   "cell_type": "code",
   "execution_count": null,
   "id": "ff82dc95",
   "metadata": {},
   "outputs": [],
   "source": [
    "%%R\n",
    "lm(log(y)~x)$coef\n",
    "mleT4q2.f <- \n",
    "function(y,x,theta0,iter=20){\n",
    "        theta.mat=matrix(0,iter+1,2)\n",
    "        theta.mat[1,]=theta0\n",
    "        #print(theta.mat)\n",
    "        for(k in 1:iter){\n",
    "                temp=exp(theta.mat[k,1]+theta.mat[k,2]*x)\n",
    "                #print(sum(temp))\n",
    "                u=c(-sum(temp-y),-sum((temp-y)*x))\n",
    "                #print(u)\n",
    "        H.mat=matrix(c(sum(temp),sum(temp*x),sum(temp*x),sum(temp*(x^2))),2,2)\n",
    "        #print(H.mat)\n",
    "        theta.mat[k+1,]=theta.mat[k,]+solve(H.mat)%*%u}\n",
    "        result=list(est=theta.mat, se=diag(solve(H.mat))^0.5)\n",
    "        return(result)\n",
    "}\n",
    "mleT4q2.f(y,x, c(-2.8306,0.1336),iter=4)"
   ]
  },
  {
   "cell_type": "code",
   "execution_count": null,
   "id": "2941968f",
   "metadata": {},
   "outputs": [],
   "source": [
    "%%R\n",
    "curve(exp(-2.8177+0.1333*x), 28, 40.5, xlab=\"x\", ylab=\"y\")\n",
    "points(x,y)"
   ]
  },
  {
   "cell_type": "markdown",
   "id": "695e0e63",
   "metadata": {},
   "source": [
    "# Q3\n",
    "# χ2 test of adequacy."
   ]
  },
  {
   "cell_type": "code",
   "execution_count": null,
   "id": "0fbb4782",
   "metadata": {},
   "outputs": [],
   "source": [
    "%%R\n",
    "Y <- c(2, 3, 3, 4, 3, 2, 0, 3, 8, 11, 6, 6, 7, 12, 11, 11)\n",
    "N <- c(119, 124, 50, 26, 88, 100, 43, 23, 127, 220, 74, 49, 74, 111, 57, 44)\n",
    "BP <- factor(rep(1:4, 4))\n",
    "CHOL <- factor(rep(1:4, rep(4, 4)))\n",
    "fit.1 <- glm(Y/N ~ 1, weights = N, family = \"binomial\")\n",
    "fit.2 <- glm(Y/N ~ CHOL, weights = N, family = \"binomial\")\n",
    "fit.3 <- glm(Y/N ~ BP, weights = N, family = \"binomial\")\n",
    "fit.4 <- glm(Y/N ~ CHOL + BP, weights = N, family = \"binomial\")"
   ]
  },
  {
   "cell_type": "code",
   "execution_count": null,
   "id": "75dbd44d",
   "metadata": {},
   "outputs": [],
   "source": [
    "%%R\n",
    "summary(fit.3)\n",
    "fit.3$df.residiual"
   ]
  },
  {
   "cell_type": "code",
   "execution_count": null,
   "id": "ad2412ad",
   "metadata": {},
   "outputs": [],
   "source": [
    "%%R\n",
    "df.residual(fit.3)"
   ]
  },
  {
   "cell_type": "code",
   "execution_count": null,
   "id": "1db3c114",
   "metadata": {},
   "outputs": [],
   "source": [
    "%%R\n",
    "fit.3$df.residiual"
   ]
  },
  {
   "cell_type": "code",
   "execution_count": null,
   "id": "7b42cfe3",
   "metadata": {},
   "outputs": [],
   "source": [
    "%%R\n",
    "deviance(fit.1)<qchisq(0.95, df = fit.1$df.residual)\n",
    "1-pchisq(deviance(fit.1), df = fit.1$df.residual)"
   ]
  },
  {
   "cell_type": "code",
   "execution_count": null,
   "id": "e0c35835",
   "metadata": {},
   "outputs": [],
   "source": [
    "%%R\n",
    "\n",
    "deviance(fit.2)-deviance(fit.4) > qchisq(0.95, df = df.residual(fit.2) - df.residual(fit.4))\n",
    "deviance(fit.3)-deviance(fit.4) > qchisq(0.95, df = df.residual(fit.3) - df.residual(fit.4))\n",
    "# all true, reject fit.2 and fit.3"
   ]
  },
  {
   "cell_type": "code",
   "execution_count": null,
   "id": "15e63d89",
   "metadata": {},
   "outputs": [],
   "source": [
    "%%R\n",
    "anova(fit.2, fit.4, test = \"Chi\") # H0: fit2 = fit4, there is no significance with addtional predictor\n",
    "# reject H0: the addition of predictor added significance in prediction.\n",
    "# Hence, model4 is more significant"
   ]
  },
  {
   "cell_type": "code",
   "execution_count": null,
   "id": "06e77757",
   "metadata": {},
   "outputs": [],
   "source": [
    "%%R\n",
    "BP2 <- rep(1:4,4)\n",
    "CHOL2 <- rep(1:4, rep(4,4))\n",
    "fit.5 <- glm(Y/N ~ CHOL + BP2, weights = N, family = \"binomial\")\n",
    "summary(fit.5)\n",
    "\n",
    "deviance(fit.5) < qchisq(0.95, df = fit.5$df.residual)\n",
    "\n",
    "deviance(fit.5)-deviance(fit.4) > qchisq(0.95, df = df.residual(fit.5) - df.residual(fit.4))\n",
    "# false, "
   ]
  },
  {
   "cell_type": "markdown",
   "id": "86836066",
   "metadata": {},
   "source": [
    "## Including Plots\n",
    "\n",
    "You can also embed plots, for example:"
   ]
  },
  {
   "cell_type": "code",
   "execution_count": null,
   "id": "c9eca8e1",
   "metadata": {
    "attributes": {
     "classes": [],
     "echo": "FALSE",
     "id": ""
    }
   },
   "outputs": [],
   "source": [
    "plot(pressure)"
   ]
  },
  {
   "cell_type": "markdown",
   "id": "0093dc7b",
   "metadata": {},
   "source": [
    "Note that the `echo = FALSE` parameter was added to the code chunk to prevent printing of the R code that generated the plot."
   ]
  }
 ],
 "metadata": {
  "language_info": {
   "name": "python"
  }
 },
 "nbformat": 4,
 "nbformat_minor": 5
}
