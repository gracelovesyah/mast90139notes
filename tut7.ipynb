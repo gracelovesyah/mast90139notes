{
 "cells": [
  {
   "attachments": {},
   "cell_type": "markdown",
   "id": "5e03ade6",
   "metadata": {},
   "source": [
    "# Prac7"
   ]
  },
  {
   "cell_type": "code",
   "execution_count": null,
   "id": "5fd53aec",
   "metadata": {},
   "outputs": [],
   "source": [
    "%%R\n",
    "##Q1\n",
    "freq <-c(175,116,131,17,160,126,135,21,132,120,154,29,13,19,40,5,5,9,33,3,22,29,110,6)\n",
    "op <- factor(rep(1:4,6))\n",
    "gender <- factor(rep(1:2,each=12))\n",
    "year <-factor(rep(rep(1:3,each=4),2))\n",
    "\n",
    "mod1 <- glm(freq~gender+year+op, family=poisson)\n",
    "deviance(mod1)\n",
    "summary(mod1)\n",
    "\n",
    "mod2 <- glm(freq~gender*year+op, family=poisson)\n",
    "summary(mod2)\n",
    "mod3 <- glm(freq~gender*op+year, family=poisson)\n",
    "summary(mod3)\n",
    "mod4 <- glm(freq~gender+year*op, family=poisson)\n",
    "summary(mod4)\n",
    "mod5 <- glm(freq~gender*year+gender*op, family=poisson)\n",
    "summary(mod5)\n",
    "mod6 <- glm(freq~gender*year+year*op, family=poisson)\n",
    "summary(mod6)\n",
    "mod7 <- glm(freq~gender*op+year*op, family=poisson)\n",
    "summary(mod7)\n",
    "mod8 <- glm(freq~gender*year+gender*op+year*op, family=poisson)\n",
    "summary(mod8)"
   ]
  },
  {
   "cell_type": "markdown",
   "id": "aa901a0e",
   "metadata": {},
   "source": [
    "(a) Which of the three factors, Opinion, Gender and Year, can serve as the response variable? Why? Based on your answer, which of the eight models is (or are) not worth to consider? Why not?"
   ]
  },
  {
   "cell_type": "markdown",
   "id": "91faf7d2",
   "metadata": {},
   "source": [
    "## R Markdown\n",
    "\n",
    "This is an R Markdown document. Markdown is a simple formatting syntax for authoring HTML, PDF, and MS Word documents. For more details on using R Markdown see <http://rmarkdown.rstudio.com>.\n",
    "\n",
    "When you click the **Knit** button a document will be generated that includes both content as well as the output of any embedded R code chunks within the document. You can embed an R code chunk like this:"
   ]
  },
  {
   "cell_type": "code",
   "execution_count": null,
   "id": "45976b48",
   "metadata": {},
   "outputs": [],
   "source": [
    "%%R\n",
    "Y <- c(2, 3, 3, 4, 3, 2, 0, 3, 8, 11, 6, 6, 7, 12, 11, 11)\n",
    "N <- c(119, 124, 50, 26, 88, 100, 43, 23, 127, 220, 74, 49, 74, 111, 57, 44)\n",
    "BP <- factor(rep(1:4, 4))\n",
    "CHOL <- factor(rep(1:4, rep(4, 4)))\n",
    "\n",
    "fit.1 <- glm(Y/N ~ 1, weights = N, family = \"binomial\")\n",
    "summary(fit.1)\n",
    "fit.2 <- glm(Y/N ~ CHOL, weights = N, family = \"binomial\")\n",
    "summary(fit.2)\n",
    "fit.3 <- glm(Y/N ~ BP, weights = N, family = \"binomial\")\n",
    "summary(fit.3)\n",
    "fit.4 <- glm(Y/N ~ CHOL + BP, weights = N, family = \"binomial\")\n",
    "summary(fit.4)\n"
   ]
  },
  {
   "cell_type": "code",
   "execution_count": null,
   "id": "cd2e5ea5",
   "metadata": {},
   "outputs": [],
   "source": [
    "%%R\n",
    "Freq<- c(Y, N-Y)\n",
    "CHD <- factor(rep(1:2, each=16))\n",
    "BP1<- factor(rep(1:4,8))\n",
    "CHOL1 <- factor(rep(rep(1:4,each=4),2))\n",
    "fitP.1 <- glm(Freq ~ CHOL1*BP1+CHD, family=poisson)\n",
    "summary(fitP.1)\n",
    "deviance(fitP.1)\n",
    "anova(fitP.1, test=\"Chi\")\n",
    "fitP.2 <- glm(Freq ~ BP1+CHD*CHOL1, family=poisson)\n",
    "summary(fitP.2)\n",
    "anova(fitP.2)\n",
    "fitP.3 <- glm(Freq ~ CHOL1+ CHD*BP1, family=poisson)\n",
    "summary(fitP.3)\n",
    "anova(fitP.3)\n",
    "fitP.4 <- glm(Freq ~ CHOL1*BP1+CHD*CHOL1+CHD*BP1, family=poisson)\n",
    "summary(fitP.4)\n",
    "anova(fitP.4)\n",
    "anova(fit.4)\n",
    "\n",
    "fitP.5 <- glm(Freq ~ BP1+CHOL1+CHD, family=poisson)\n",
    "summary(fitP.5)\n",
    "anova(fitP.5)\n",
    "# comparing model with BP model to see if the residual devianc is the same"
   ]
  },
  {
   "cell_type": "markdown",
   "id": "729a2d2e",
   "metadata": {},
   "source": [
    "## Including Plots\n",
    "\n",
    "You can also embed plots, for example:"
   ]
  },
  {
   "cell_type": "code",
   "execution_count": null,
   "id": "a635e4f7",
   "metadata": {
    "attributes": {
     "classes": [],
     "echo": "FALSE",
     "id": ""
    }
   },
   "outputs": [],
   "source": [
    "plot(pressure)"
   ]
  },
  {
   "cell_type": "markdown",
   "id": "3cc04228",
   "metadata": {},
   "source": [
    "Note that the `echo = FALSE` parameter was added to the code chunk to prevent printing of the R code that generated the plot."
   ]
  }
 ],
 "metadata": {
  "language_info": {
   "name": "python"
  }
 },
 "nbformat": 4,
 "nbformat_minor": 5
}
